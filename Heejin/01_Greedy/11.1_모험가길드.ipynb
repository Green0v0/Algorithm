{
 "cells": [
  {
   "cell_type": "code",
   "execution_count": 12,
   "metadata": {},
   "outputs": [],
   "source": [
    "#카운트 세는 함수 \n",
    "\n",
    "def Count() : \n",
    "    count = 0 \n",
    "    pass \n",
    "    count += 1\n",
    "    return count "
   ]
  },
  {
   "cell_type": "code",
   "execution_count": 55,
   "metadata": {},
   "outputs": [
    {
     "name": "stdout",
     "output_type": "stream",
     "text": [
      "5\n",
      "2 3 1 2 2 \n",
      "3 2\n"
     ]
    }
   ],
   "source": [
    "# 공포도 가장 큰 값 확인 변수 \n",
    "# n : 모험가 n명 입력값 , type : int \n",
    "# level : 공포도 입력 값 , type : list \n",
    "\n",
    "n = int(input())\n",
    "level = list(map(int,input().split()))\n",
    "level.sort() # 공포도 정렬해주기 , 왜 None이 나오지? \n",
    "\n",
    "first = level[n-1]\n",
    "second = level[n-2]\n",
    "print(first, second)\n",
    "\n",
    "while True : \n",
    "    for i in range(n) : \n",
    "        if n - first"
   ]
  },
  {
   "cell_type": "code",
   "execution_count": 51,
   "metadata": {},
   "outputs": [
    {
     "name": "stdout",
     "output_type": "stream",
     "text": [
      "[3, 2, 2]\n"
     ]
    }
   ],
   "source": [
    "#그룹 나누기 \n",
    "#여기가 가장 어렵네.. 나눌 수 있는 방법은 2가지 인거 같아.. \n",
    "\n",
    "lst = [3, 2, 2, 2, 1]\n",
    "\n",
    "i = 0 # point \n",
    "max(lst)\n",
    "x = lst[:max(lst)]\n",
    "lst\n",
    "print(x)\n",
    "\n"
   ]
  },
  {
   "cell_type": "code",
   "execution_count": null,
   "metadata": {},
   "outputs": [],
   "source": []
  }
 ],
 "metadata": {
  "kernelspec": {
   "display_name": "Python 3",
   "language": "python",
   "name": "python3"
  },
  "language_info": {
   "codemirror_mode": {
    "name": "ipython",
    "version": 3
   },
   "file_extension": ".py",
   "mimetype": "text/x-python",
   "name": "python",
   "nbconvert_exporter": "python",
   "pygments_lexer": "ipython3",
   "version": "3.8.5"
  }
 },
 "nbformat": 4,
 "nbformat_minor": 4
}
