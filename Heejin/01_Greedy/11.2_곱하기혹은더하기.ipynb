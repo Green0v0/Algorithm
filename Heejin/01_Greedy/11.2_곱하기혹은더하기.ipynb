{
 "cells": [
  {
   "cell_type": "markdown",
   "metadata": {},
   "source": [
    "# ch11.그리디 문제 \n",
    "## 11.02 곱하기 혹은 더하기 \n",
    "\n",
    "- 각 자리가 숫자(0 ~ 9)로만 이루어진 문자열 S가 주어졌을 때, \n",
    "- 왼쪽부터 오른쪽으로 하나씩 모든 숫자를 확인하며 \n",
    "- 숫자 사이에 'x', '+' 연산자를 넣어 결과적으로 만들어 질 수 있는 가장 큰 수를 구하는 프로그램을 작성.\n",
    "- 단, + 보다 * 를 먼저 계산하는 일반적인 방식과는 달리, 모든 연산 왼쪽에서부터 순서대로 이루어 진다라고 가정\n",
    "\n",
    "\n",
    "- 입력조건\n",
    "    - 첫째 줄에 여러개의 숫자로 구성된 하나의 문자열 S가 주어짐 ( 1 <= S의 길이 <= 20)\n",
    "    - 첫째 줄에 만들어 질 수 있는 가장 큰 수를 출력"
   ]
  },
  {
   "cell_type": "markdown",
   "metadata": {},
   "source": [
    "#### 희진 답안"
   ]
  },
  {
   "cell_type": "code",
   "execution_count": null,
   "metadata": {},
   "outputs": [],
   "source": []
  },
  {
   "cell_type": "markdown",
   "metadata": {},
   "source": [
    "#### 풀이과정\n",
    "- 문자열 에서 각 요소 숫자로 & S를 배열로 변환 \n",
    "- 왼쪽부터 오른쪽 하나씩 숫자 확인을 하며 \n",
    "- 요소 중에 0이 있으면 양옆 중 작은 수와 더한다. \n",
    "    - zero_index 확인 -> \n",
    "    - zero_index가 맨 처음이면 바로 다음 값이랑 더함 \n",
    "    - zero_index 가 중간이면 양 옆 값 확인해서 작은 값이랑 더함  \n",
    "    - 예외처리 0이 2개 들어오면? \n",
    "    -\n",
    "- 0이 아니면 곱한다. "
   ]
  },
  {
   "cell_type": "code",
   "execution_count": 37,
   "metadata": {},
   "outputs": [
    {
     "name": "stdout",
     "output_type": "stream",
     "text": [
      "0234789\n"
     ]
    }
   ],
   "source": [
    "S = input()\n",
    "lst = []\n",
    "\n",
    "for i in S : \n",
    "    lst.append(int(i))\n",
    "#     print(lst)\n",
    "\n",
    "for index, value in enumerate(lst) :\n",
    "    if value == 0 : \n",
    "        zero_index = lst.index(0)\n",
    "        if lst[zero_index-1] < lst[zero_index+1] : \n",
    "            plus = lst[zero_index]+lst[zero_index-1]\n",
    "            print(plus)\n",
    "        else : \n",
    "            plus = lst[zero_index]+lst[zero_index+1]"
   ]
  },
  {
   "cell_type": "markdown",
   "metadata": {},
   "source": [
    "====== 2021.01.22 time out ========"
   ]
  },
  {
   "cell_type": "markdown",
   "metadata": {},
   "source": [
    "#### 다른 사람 답안"
   ]
  },
  {
   "cell_type": "code",
   "execution_count": null,
   "metadata": {},
   "outputs": [],
   "source": [
    "# 기출문제 풀이 \n",
    "data = input()\n",
    "\n",
    "# 첫번째 문자를 숫자로 변경하여 대입 \n",
    "result = int(data[0])\n",
    "\n",
    "for i in range(1,len(data)) : \n",
    "    #  두 수 중에서 하나라도 0 혹은 1인 경우 , 곱하기 보다는 더하기 수행\n",
    "    num = int(data[i])\n",
    "    if num <= 1 or result <= 1 :\n",
    "        result += num \n",
    "    else :\n",
    "        result *= num \n",
    "print(result)"
   ]
  },
  {
   "cell_type": "markdown",
   "metadata": {},
   "source": [
    "#### 내가 생각하지 못한 점 \n",
    "- 더하는 경우의 수를 0만 생각하고 1의 경우는 생각하지 못햇다.\n",
    "- 즉, 1이하인 경우 조건으로 확인했어야하는 점. \n",
    "- 입력받은 data를 나는 처음부터 배열로 변환해서 진행하려고 했는데 이부분은 생각보다 고려해야할 점이 많았다. \n",
    "- 그러나 int(data[0])부터 result 값을 확인하면서 하나씩 진행을 하면 좀 더 순차적으로 조건을 확인하현 결과를 빠르게 나올수 있는점. "
   ]
  },
  {
   "cell_type": "code",
   "execution_count": null,
   "metadata": {},
   "outputs": [],
   "source": []
  },
  {
   "cell_type": "code",
   "execution_count": null,
   "metadata": {},
   "outputs": [],
   "source": []
  },
  {
   "cell_type": "code",
   "execution_count": null,
   "metadata": {},
   "outputs": [],
   "source": []
  },
  {
   "cell_type": "code",
   "execution_count": null,
   "metadata": {},
   "outputs": [],
   "source": []
  }
 ],
 "metadata": {
  "kernelspec": {
   "display_name": "Python 3",
   "language": "python",
   "name": "python3"
  },
  "language_info": {
   "codemirror_mode": {
    "name": "ipython",
    "version": 3
   },
   "file_extension": ".py",
   "mimetype": "text/x-python",
   "name": "python",
   "nbconvert_exporter": "python",
   "pygments_lexer": "ipython3",
   "version": "3.8.5"
  }
 },
 "nbformat": 4,
 "nbformat_minor": 4
}
