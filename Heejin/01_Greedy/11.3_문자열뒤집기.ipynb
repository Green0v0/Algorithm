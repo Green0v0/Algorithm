{
 "cells": [
  {
   "cell_type": "markdown",
   "metadata": {},
   "source": [
    "# Chapter11 그리디 문제\n",
    "## 11.03 문자열 뒤집기 \n",
    "다솜이는 0과 1로만 이루어진 문자열S를 갖고 있습니다.      \n",
    "다솜이는 이 문자열 S에 있는 모든 숫자를 전부 같게 만들려고 합니다.       \n",
    "다솜이가 할 수 있는 행동은 S에서 연속된 하나 이상의 숫자를 잡고 모두 뒤집는 것입니다.           \n",
    "뒤집는 것은 1을 0으로, 0을 1로 바꾸는 것을 의미합니다.       \n",
    "\n",
    "예를 들어 S = 0001100일 때는 다음과 같습니다.\n",
    "- 전체를 뒤집으면  1110011 이 됩니다. \n",
    "- 4번째 문자부터 5번째 문자까지 뒤집으면 1111111이 되어서 두번 만에 모두 같은 숫자로 만들 수 있습니다.   \n",
    "\n",
    "하지만 처음부터 4번째문자부터 5번째 문자까지 문자를 뒤집으로면 한번에 0000000이 되어서 1번만에 모두 같은 숫자로 만들 수 있습니다.     \n",
    "문자열 S가 주어졌을때, 다솜이가 해야하는 행동의 최소 횟수를 출력하세요.     \n",
    "\n",
    "- 입력조건 : 첫째줄에 0과 1로만 아루어진 문자열 S가 주어집니다. S의 길이는 100만 보다 작습니다.\n",
    "- 첫째줄에 다솜이가 해야하는 행동의 최소 횟수를 출력합니다."
   ]
  },
  {
   "cell_type": "markdown",
   "metadata": {},
   "source": [
    "#### 희진 풀이"
   ]
  },
  {
   "cell_type": "code",
   "execution_count": null,
   "metadata": {},
   "outputs": [],
   "source": []
  },
  {
   "cell_type": "markdown",
   "metadata": {},
   "source": [
    "#### 풀이과정\n",
    "- 문자열을 리스트로 바꾸기 \n",
    "- 0,1 중에 갯수를 비교해서 적은 게 뭔지 확인 ==> 조건문\n",
    "- 그 값을 가진 수를 반대로 변환\n",
    "- 카운드 +씩 증가 ==> 변수 result "
   ]
  },
  {
   "cell_type": "code",
   "execution_count": 81,
   "metadata": {},
   "outputs": [
    {
     "name": "stdout",
     "output_type": "stream",
     "text": [
      "[0, 0, 0, 0, 0, 0, 0]\n",
      "1\n"
     ]
    }
   ],
   "source": [
    "# lst = [0,0,0,1,1,0,0]\n",
    "lst = [0,0,0,1,1,0,0]\n",
    "\n",
    "result = 0\n",
    "\n",
    "lst.count(0)\n",
    "lst.count(1)\n",
    "\n",
    "if lst.count(0) > lst.count(1) :\n",
    "    # 1의 갯수가 더 작으니 1를 0으로 변환해야 한다. \n",
    "    for i in range(len(lst)) :\n",
    "        if lst[i] == 1 :\n",
    "            lst[i] = 0\n",
    "    result += 1        \n",
    "else :\n",
    "    #0을 가진 값을 1로 변환 해야 한다.\n",
    "    for i in range(len(lst)) :\n",
    "        if lst[i] == 0 :\n",
    "            lst[i] = 0\n",
    "    result += 1        \n",
    "\n",
    "print(lst)\n",
    "print(result)"
   ]
  },
  {
   "cell_type": "code",
   "execution_count": 66,
   "metadata": {},
   "outputs": [
    {
     "name": "stdout",
     "output_type": "stream",
     "text": [
      "[0, 0, 0, 1, 1, 0, 0]\n",
      "[0, 0, 0, 0, 0, 0, 0]\n"
     ]
    }
   ],
   "source": [
    "lst = [0,0,0,1,1,0,0]\n",
    "\n",
    "#1을 가진 값 => 0으로 변환 \n",
    "print(lst)\n",
    "\n",
    "for i in range(len(lst)) : # 인덱스 요소를 출력하기 \n",
    "    if lst[i] == 1 :\n",
    "        lst[i] = 0\n",
    "\n",
    "print(lst)"
   ]
  },
  {
   "cell_type": "code",
   "execution_count": null,
   "metadata": {},
   "outputs": [],
   "source": []
  },
  {
   "cell_type": "markdown",
   "metadata": {},
   "source": [
    "====== 2021.01.22 (30min) time out ========"
   ]
  },
  {
   "cell_type": "markdown",
   "metadata": {},
   "source": [
    "#### 답안"
   ]
  },
  {
   "cell_type": "code",
   "execution_count": null,
   "metadata": {},
   "outputs": [],
   "source": []
  },
  {
   "cell_type": "code",
   "execution_count": null,
   "metadata": {},
   "outputs": [],
   "source": []
  },
  {
   "cell_type": "markdown",
   "metadata": {},
   "source": [
    "#### 내가 생각하지 못한 점\n"
   ]
  },
  {
   "cell_type": "markdown",
   "metadata": {},
   "source": [
    "- 2021.01.22    \n",
    "문제 이해 못한 부분이 있었음. 연속된 숫자만 뒤집는 부분을 놓침.     \n",
    "그래서 count갯수 비교해서 작은 갯수에 해당하는 값을 변경하면 되겠구나 생각함.    \n",
    "어쩐지 for로 변경하면 1번밖에 나오지 않지.. 이상하다 했어...      \n",
    "내가 생각한건 그냥 전체 다 변경하는 거에 초점을 둔 것같음.. ㅜㅜㅜㅜ ..        \n",
    "다시 풀어야 겠다. ㅜㅜ   우선 답지 보지 말고 다시 풀자.. ㅜㅜ  "
   ]
  },
  {
   "cell_type": "code",
   "execution_count": null,
   "metadata": {},
   "outputs": [],
   "source": []
  },
  {
   "cell_type": "code",
   "execution_count": null,
   "metadata": {},
   "outputs": [],
   "source": []
  },
  {
   "cell_type": "code",
   "execution_count": null,
   "metadata": {},
   "outputs": [],
   "source": []
  }
 ],
 "metadata": {
  "kernelspec": {
   "display_name": "Python 3",
   "language": "python",
   "name": "python3"
  },
  "language_info": {
   "codemirror_mode": {
    "name": "ipython",
    "version": 3
   },
   "file_extension": ".py",
   "mimetype": "text/x-python",
   "name": "python",
   "nbconvert_exporter": "python",
   "pygments_lexer": "ipython3",
   "version": "3.8.5"
  }
 },
 "nbformat": 4,
 "nbformat_minor": 4
}
