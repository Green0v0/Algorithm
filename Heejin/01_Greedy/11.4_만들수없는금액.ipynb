{
 "cells": [
  {
   "cell_type": "markdown",
   "metadata": {},
   "source": [
    "# ch11.그리디 문제 \n",
    "##  11.4 만들 수 없는 금액 \n",
    "\n",
    "동네 편의점의 주인인 동빈이는 N개의 동전을 가지고 있습니다.       \n",
    "이때 N개의 동전을 이용하여 만들 수 없는 양의 정수 금액 중 최솟값을 구하는 프로그램을 작성하세요.     \n",
    "\n",
    "예, N = 5 이고, 각 동전이 각각 3원, 2원, 1원, 1원, 9원 짜리 (화폐단위) 동전이라고 가정     \n",
    "이때 동빈이가 만들 수 없는 양의 정수 금액 중 최솟값은 8원.    \n",
    "\n",
    "또 다른 예시로, N = 3 이고, 각 동전이 각각 3원, 5원, 7원 짜리 (화폐단위) 동전이라고 가정합시다.      \n",
    "이때 동빈이가 만들 수 없는 양의 정수 금액 중 최솟값은 1원입니다.       \n"
   ]
  },
  {
   "cell_type": "markdown",
   "metadata": {},
   "source": [
    "#### 희진 답안 "
   ]
  },
  {
   "cell_type": "code",
   "execution_count": null,
   "metadata": {},
   "outputs": [],
   "source": []
  },
  {
   "cell_type": "code",
   "execution_count": null,
   "metadata": {},
   "outputs": [],
   "source": []
  },
  {
   "cell_type": "markdown",
   "metadata": {},
   "source": [
    "#### 풀이 과정\n",
    "- 2021.01.22     \n",
    "문제 분석 및 해결방법이 아직 어렵네... 접근을 어떻게 해야할지가 어려운 것같아.. 풀다보면 익숙해 지겠지.. ㅜㅜㅜㅜ      \n",
    "동빈님도 그리디 알고리즘이 익숙하지 않으면 쉽게 이해되지 않을 수 있는 문제라고했다. 알고리즘 익숙해지고, 많이 풀수있도록 하자!!        "
   ]
  },
  {
   "cell_type": "code",
   "execution_count": null,
   "metadata": {},
   "outputs": [],
   "source": []
  },
  {
   "cell_type": "markdown",
   "metadata": {},
   "source": [
    "====== 2021.01.22 time out ========"
   ]
  },
  {
   "cell_type": "markdown",
   "metadata": {},
   "source": [
    "#### 다른 풀이 및 답안\n",
    "- 동전에 대한 정보가 주어졌을 때, 화폐단위를 기준으로 오름차순 정렬\n",
    "- 이후부터 1부터 차례대로 특정한 금액을 만들수 있는지 확인\n",
    "    - target - 1 까지의 모든 금액을 만들 수 있다 가정\n",
    "    - 화폐단위가 작은 순서대로 동전을 확인\n",
    "    - target금액을 만들 수 있는 지 확인\n",
    "    - 만약 target금액을 만들 수 있다면 target값을 업데이트하는(증가시키는) 방식을 이용한다."
   ]
  },
  {
   "cell_type": "code",
   "execution_count": null,
   "metadata": {},
   "outputs": [],
   "source": [
    "n = int(input())\n",
    "data = list(map(int,input().split()))\n",
    "data.sort()\n",
    "\n",
    "target = 1 \n",
    "for x in data : \n",
    "    #만들 수 없는 금액을 찾았을 때 반복 종료 \n",
    "    if target < x : \n",
    "        break\n",
    "    target += x #요기가 포인트!!! \n",
    "\n",
    "#만들 수 없는 금액 출력\n",
    "print(target)"
   ]
  },
  {
   "cell_type": "code",
   "execution_count": null,
   "metadata": {},
   "outputs": [],
   "source": []
  },
  {
   "cell_type": "markdown",
   "metadata": {},
   "source": [
    "#### 내가 생각하지 못한 점 \n",
    "- "
   ]
  },
  {
   "cell_type": "code",
   "execution_count": null,
   "metadata": {},
   "outputs": [],
   "source": []
  },
  {
   "cell_type": "code",
   "execution_count": null,
   "metadata": {},
   "outputs": [],
   "source": []
  }
 ],
 "metadata": {
  "kernelspec": {
   "display_name": "Python 3",
   "language": "python",
   "name": "python3"
  },
  "language_info": {
   "codemirror_mode": {
    "name": "ipython",
    "version": 3
   },
   "file_extension": ".py",
   "mimetype": "text/x-python",
   "name": "python",
   "nbconvert_exporter": "python",
   "pygments_lexer": "ipython3",
   "version": "3.8.5"
  }
 },
 "nbformat": 4,
 "nbformat_minor": 4
}
