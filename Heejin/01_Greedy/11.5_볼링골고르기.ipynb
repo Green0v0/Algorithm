{
 "cells": [
  {
   "cell_type": "markdown",
   "metadata": {},
   "source": [
    "# ch11. 그리디 문제 \n",
    "##  11.5 볼링공고르기\n",
    "\n",
    "- blabla"
   ]
  },
  {
   "cell_type": "markdown",
   "metadata": {},
   "source": [
    "#### 희진 답안 "
   ]
  },
  {
   "cell_type": "code",
   "execution_count": null,
   "metadata": {},
   "outputs": [],
   "source": [
    "# 2021.01.22 풀이\n",
    "n, m = map(int,input().split()) # m이 역할하는게 있을까.. \n",
    "lst = list(map(int,input().split()))\n",
    "\n",
    "count = 0\n",
    "\n",
    "for i in range(0,n) :\n",
    "    for j in range(i+1,n) : \n",
    "#         print(lst[i], lst[j])\n",
    "        if lst[i] != lst[j] : \n",
    "            count += 1\n",
    "     \n",
    "        \n",
    "print(count)"
   ]
  },
  {
   "cell_type": "code",
   "execution_count": null,
   "metadata": {},
   "outputs": [],
   "source": []
  },
  {
   "cell_type": "markdown",
   "metadata": {},
   "source": [
    "#### 풀이 과정"
   ]
  },
  {
   "cell_type": "markdown",
   "metadata": {},
   "source": [
    "2021.01.23    \n",
    "- 리스트로 입력받고 \n",
    "- 2개를 뽑는다. 순열.. 이중중첩 사용 \n",
    "- i, i+1 값 비교 , 다른 값이면 count+=1 씩 증가해서 경우의 수 체크- \n",
    "====== 2021.01.23 PASS ========"
   ]
  },
  {
   "cell_type": "markdown",
   "metadata": {},
   "source": [
    "#### 다른 풀이 및 답안"
   ]
  },
  {
   "cell_type": "code",
   "execution_count": null,
   "metadata": {},
   "outputs": [],
   "source": [
    "n, m = map(int,input().split())\n",
    "data = list(map(int,input().split()))\n",
    "\n",
    "# 1부터 10까지 무게를 감을 수 있는 리스트 \n",
    "arra = [0] * 11\n",
    "\n",
    "for x in data : \n",
    "    #각 무게에 해당하는 볼링공의 개수 카운트 \n",
    "    arra[x] += 1 \n",
    "    \n",
    "result = 0 \n",
    "#1부터 m까지의 각 무게에 대하여 처리 \n",
    "for i in range(1,m+1) : \n",
    "    n -= array[i] # 무게가 i인 볼링공의 개수(A가 선택할 수 있는 개수) 제외 \n",
    "    result += array[i] * n #  B가 선택하는 경우의 수와 곱하기 \n",
    "    \n",
    "print(result)"
   ]
  },
  {
   "cell_type": "code",
   "execution_count": null,
   "metadata": {},
   "outputs": [],
   "source": []
  },
  {
   "cell_type": "markdown",
   "metadata": {},
   "source": [
    "#### 내가 생각하지 못한 점 "
   ]
  },
  {
   "cell_type": "code",
   "execution_count": null,
   "metadata": {},
   "outputs": [],
   "source": [
    "- "
   ]
  },
  {
   "cell_type": "code",
   "execution_count": null,
   "metadata": {},
   "outputs": [],
   "source": []
  }
 ],
 "metadata": {
  "kernelspec": {
   "display_name": "Python 3",
   "language": "python",
   "name": "python3"
  },
  "language_info": {
   "codemirror_mode": {
    "name": "ipython",
    "version": 3
   },
   "file_extension": ".py",
   "mimetype": "text/x-python",
   "name": "python",
   "nbconvert_exporter": "python",
   "pygments_lexer": "ipython3",
   "version": "3.8.5"
  }
 },
 "nbformat": 4,
 "nbformat_minor": 4
}
