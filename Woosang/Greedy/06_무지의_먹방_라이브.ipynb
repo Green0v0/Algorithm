{
 "cells": [
  {
   "cell_type": "markdown",
   "metadata": {},
   "source": [
    "# 무지 1\n",
    "### 딕셔너리를 이용한 풀이\n",
    "- 딕셔너리는 고정된 key값이 있어, value의 값이 0인 친구를 지워가며 비교\n",
    "- **시간 초과**\n",
    "- 딕셔너리를 반복문으로 돌리는 중에는 pop할수를 사용할 수 없다."
   ]
  },
  {
   "cell_type": "code",
   "execution_count": 5,
   "metadata": {},
   "outputs": [
    {
     "data": {
      "text/plain": [
       "'\\n입력값 = [3, 1, 2], 5\\n출력값 = 1\\n'"
      ]
     },
     "execution_count": 5,
     "metadata": {},
     "output_type": "execute_result"
    }
   ],
   "source": [
    "# food_times = [3,1,2]\n",
    "# k = 5\n",
    "def solution(food_times, k):\n",
    "    dict_ft = {k:v for k, v in enumerate(food_times, 1)}\n",
    "    while True:\n",
    "        for i in dict_ft.keys(): # 키 값 반복문 돌리기\n",
    "            dict_ft[i] -= 1\n",
    "            k -= 1\n",
    "            if k == -1: # 정전 발생 이후 이기 때문에 -1값\n",
    "                return i\n",
    "        dict_ft = {k:v for k,v in dict_ft.items() if v != 0}\n",
    "        # 딕셔너리는 반복문 도중 변환이 있으면 에러가 나기때문에\n",
    "        # comprehension으로 0을 제외하며 재정의\n",
    "        \n",
    "\"\"\"\n",
    "입력값 = [3, 1, 2], 5\n",
    "출력값 = 1\n",
    "\"\"\""
   ]
  },
  {
   "cell_type": "markdown",
   "metadata": {},
   "source": [
    "## 새로 배운법\n",
    "```python\n",
    "dic = {1:3, 2:4, 3:2, 4:2, 5:3, 6:6}\n",
    "for i in dic.keys():\n",
    "    if dic[i] == 2:\n",
    "        dic.pop(i)\n",
    "        \n",
    "print(dic)\n",
    "\"\"\"\n",
    "RuntimeError: dictionary changed size during iteration\n",
    "\"\"\"\n",
    "```\n",
    "위와 같이 딕셔너리는 반복문 도중 변환이 있으면 에러가 난다."
   ]
  },
  {
   "cell_type": "markdown",
   "metadata": {},
   "source": [
    "# 무지 2\n",
    "- 무지 1이랑 같은 방법이지만 0을 제외하지 않고 조건문으로 다루기\n",
    "- **시간초과**"
   ]
  },
  {
   "cell_type": "code",
   "execution_count": 6,
   "metadata": {},
   "outputs": [
    {
     "data": {
      "text/plain": [
       "'\\n입력값 = [3,1,2], 5\\n출력값 = 1\\n'"
      ]
     },
     "execution_count": 6,
     "metadata": {},
     "output_type": "execute_result"
    }
   ],
   "source": [
    "# food_times = [3,1,2]\n",
    "# k = 5\n",
    "def solution(food_times, k):\n",
    "    dict_ft = {k:v for k, v in enumerate(food_times, 1)}\n",
    "    while True:\n",
    "        for i in dict_ft.keys():\n",
    "            if dict_ft[i] != 0:\n",
    "                dict_ft[i] -= 1\n",
    "                k -= 1\n",
    "                if k == -1:\n",
    "                    return i\n",
    "\"\"\"\n",
    "입력값 = [3,1,2], 5\n",
    "출력값 = 1\n",
    "\"\"\""
   ]
  },
  {
   "cell_type": "markdown",
   "metadata": {},
   "source": [
    "# 무지3\n",
    "- 리스트를 이용한 방법\n",
    "- **시간초과**"
   ]
  },
  {
   "cell_type": "code",
   "execution_count": 8,
   "metadata": {},
   "outputs": [
    {
     "data": {
      "text/plain": [
       "'\\n입력값 = [3,1,2], 5\\n출력값 = 1\\n'"
      ]
     },
     "execution_count": 8,
     "metadata": {},
     "output_type": "execute_result"
    }
   ],
   "source": [
    "# food_times = [3,1,2]\n",
    "# k = 5\n",
    "def solution(food_times, k):\n",
    "    while True:\n",
    "        for i in range(len(food_times)):\n",
    "            if food_times[i] != 0:\n",
    "                food_times[i] -= 1\n",
    "                k -= 1\n",
    "                if k == -1:\n",
    "                    return i + 1 # 리스트의 인덱스값은 0부터 시작하므로 +1\n",
    "\"\"\"\n",
    "입력값 = [3,1,2], 5\n",
    "출력값 = 1\n",
    "\"\"\""
   ]
  },
  {
   "cell_type": "markdown",
   "metadata": {},
   "source": [
    "# 무지 4\n",
    "- `heapq` 함수를 이용한 풀이\n",
    "- 구글링 참고"
   ]
  },
  {
   "cell_type": "code",
   "execution_count": 9,
   "metadata": {},
   "outputs": [
    {
     "name": "stdout",
     "output_type": "stream",
     "text": [
      "1\n"
     ]
    }
   ],
   "source": [
    "import heapq\n",
    "\n",
    "food_times = [3,1,2]\n",
    "k = 5\n",
    "\n",
    "h = []\n",
    "for i in range(len(food_times)): # heapq정렬 [(food_times의 값, idx),...]정의\n",
    "    heapq.heappush(h, (food_times[i], i+1))\n",
    "    \n",
    "n = len(food_times)\n",
    "last_food = 0 # 다음은 음식을 매순간 빼주는 것보다 다음 최솟값이랑 빼서 계산\n",
    "while k - (h[0][0] - last_food) * n >= 0: # 최솟값 배열 한바퀴 돌아 최솟값*배열의길이 - k한다.\n",
    "    cur = heapq.heappop(h)[0]\n",
    "    k -= (cur - last_food) * n\n",
    "    n -= 1\n",
    "    last_food = cur\n",
    "    \n",
    "h.sort(key=lambda x: x[1])\n",
    "print(h[k%n][1])\n",
    "\"\"\"\n",
    "결과값 : 1\n",
    "\"\"\""
   ]
  },
  {
   "cell_type": "markdown",
   "metadata": {},
   "source": [
    "# 힙 자료구조 (heapq)\n",
    "- heapq 모듈 => 이진 트리 기반 최소 힙(``min heap``) 자료구조를 제공\n",
    "- ``min heap``을 사용하면 원소들이 항상 **정렬된 상태로 추가, 삭제** 된다.\n",
    "- ``min heap``에서 **가장 작은 값**은 언제나 인덱스 ``0``  즉 이진 트리의 루트에 위치!\n",
    "    - 최상단 경로 = 루트(root)\n",
    "    - 하단 경로 = 리프(leaf)\n",
    "- 내부적으로 ``min heap`` 내의 모든 원소(k)는 항상 자식 원소들(2k+1, 2k+2) 보다 크기가 작거나 같도록 원소가 추가 삭제됨\n",
    "\n",
    "### 모듈 임포트\n",
    "```import heapq```\n",
    "\n",
    "## 최소 힙 생성\n",
    "- ``heapq`` 모듈에는 파이썬의 보통 리스트를 마치 최소 힙처럼 다룰 수 있도록 도와준다.\n",
    "    - 빈 리스트(lst)를 생성한 후 ``heapq``모듈의 함수를 호출할 때 마다 lst를 인자로 넘겨야 한다.\n",
    "***파이썬 에서 ``heapq`` 모듈을 통해 원소를 추가, 삭제한 리스트는 ``min heapq``이다**\n",
    "\n",
    "## 힙 원소 추가 (heappush())\n",
    "- ``heapq`` 모듈의 ``heappush()`` 함수를 이용해 원소 추가가능\n",
    "- 첫 인자는 원소를 추가할 대상 리스트, 두번째 인자는 추가할 원소\n",
    "ex) 리스트나 튜플을 원소로 추가가능\n",
    "```python\n",
    "lst = [4, 1, 7, 3]\n",
    "h = []\n",
    "for i in range(4):\n",
    "    heapq.heappush(h, (lst[i], i+1)\n",
    "\"\"\"\n",
    "결과값 = [(1,2),(3,4),(7,3),(4,1)]\n",
    "h의 값은 튜플들로 구성\n",
    "h[0] ==> 리스트의 인자\n",
    "h[0][[0] ==> 리스트 인자의 idx값을 넣어줬다.\n",
    "\"\"\"\n",
    "```\n",
    "- 내부적으로 이진 트리에 원소 추가는 ``heappush()`` 함수는 ``O(logN)``의 시간 복잡도를 가짐\n",
    "\n",
    "## 힙에서 원소 삭제(heappop())\n",
    "- ``heapq`` 모듈의 ``heappop()`` 함수를 이용하여 원소를 삭제/반환\n",
    "- 원소를 삭제할 대상 리스트를 인자로 넘기면, **가장 작은 원소**를 삭제 후 그 값을 반환한다.\n",
    "\n",
    "## 최소값 삭제하지 않고 반환(h[0])\n",
    "- 힙에서 최소값을 읽기 하려면 리스트의 첫번째 원소에 접근하듯 인덱스를 통해 접근\n",
    "ex)\n",
    "```python\n",
    "print(h[0])\n",
    "\"\"\"\n",
    "출력값 = (1,2)\n",
    "\"\"\"\n",
    "```\n",
    "#### 주의 사항\n",
    "- 인덱스[0]에 가장 작은 원소가 있다고 인데스[1]에 두 번째로 작은 원소 ... 를 갖는 다는 보장은 없다.\n",
    "- 힙은 ``heappop()``함수를 호출하여 원소를 삭제할 때마다 이진 트리의 재배치를 통해 매번 새로운 최소값을 인덱스[0] 에 위치 시킨다.\n",
    "- **두 번째로 작은 원소를 얻고 싶을 경우** ``heappop()``을 먼저 한후 ``h[0]``을 통해 새로운 최소값에 접근\n",
    "## 기존 리스트를 힙으로 변환\n",
    "- 이미 원소가 들어있는 리스트를 힙으로 만들려면 ``heapq`` 모듈의 ``heapify()``라는 함수에 사용\n",
    "- ``heapifi()``함수에 리스트를 인자로 넘기면 리스트 내부의 원소들의 위에서 다룬 힙 구조에 맞게 재배치되며 최소값이 0번째 인덱스에 위치\n",
    "    - 비어있는 리스트 생성 후 ``heappush()``함수로 원소를 추가하는 효과남"
   ]
  },
  {
   "cell_type": "markdown",
   "metadata": {},
   "source": [
    "#  무지 5\n",
    "- 원래 하고 싶었던 코드인데 구현을 못했지만 무지 4번을 참고하여 코드를 짯다.\n",
    "- 결과 == 효율성 2개 pass\n",
    "- **heapq**모듈이 확실히 정렬히 빠른거 같다."
   ]
  },
  {
   "cell_type": "code",
   "execution_count": 4,
   "metadata": {},
   "outputs": [
    {
     "name": "stdout",
     "output_type": "stream",
     "text": [
      "1\n"
     ]
    }
   ],
   "source": [
    "food_times = [3,1,2]\n",
    "k = 5\n",
    "ft = []\n",
    "for i in range(len(food_times)):\n",
    "    ft.append([food_times[i], i+1])\n",
    "\n",
    "ft.sort(key=lambda x: x[0])\n",
    "n = len(ft)\n",
    "last_food = 0\n",
    "\n",
    "while k - (ft[0][0] - last_food) * n >= 0:\n",
    "    cur = ft.pop(0)[0]\n",
    "    k -= (cur - last_food) * n\n",
    "    n -= 1\n",
    "    last_food = cur\n",
    "\n",
    "ft.sort(key=lambda x:x[1])\n",
    "print(ft[k%n][1])"
   ]
  }
 ],
 "metadata": {
  "kernelspec": {
   "display_name": "Python 3",
   "language": "python",
   "name": "python3"
  },
  "language_info": {
   "codemirror_mode": {
    "name": "ipython",
    "version": 3
   },
   "file_extension": ".py",
   "mimetype": "text/x-python",
   "name": "python",
   "nbconvert_exporter": "python",
   "pygments_lexer": "ipython3",
   "version": "3.8.5"
  }
 },
 "nbformat": 4,
 "nbformat_minor": 4
}
