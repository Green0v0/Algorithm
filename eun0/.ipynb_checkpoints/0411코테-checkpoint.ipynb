{
 "cells": [
  {
   "cell_type": "code",
   "execution_count": 9,
   "metadata": {},
   "outputs": [],
   "source": [
    "def solution1(goods):\n",
    "    count=0\n",
    "    num=0\n",
    "    goods.sort(reverse=False)\n",
    "    for i in goods:\n",
    "        num+=i\n",
    "        if num<=50:\n",
    "            print(num)\n",
    "            num+=i\n",
    "        else:   \n",
    "            count+=1\n",
    "            num=0\n",
    "                \n",
    "    return sum(goods)-count*10\n",
    "        "
   ]
  },
  {
   "cell_type": "code",
   "execution_count": 10,
   "metadata": {},
   "outputs": [
    {
     "name": "stdout",
     "output_type": "stream",
     "text": [
      "9\n"
     ]
    },
    {
     "data": {
      "text/plain": [
       "97"
      ]
     },
     "execution_count": 10,
     "metadata": {},
     "output_type": "execute_result"
    }
   ],
   "source": [
    "solution1([46,62,9])"
   ]
  },
  {
   "cell_type": "code",
   "execution_count": 47,
   "metadata": {},
   "outputs": [],
   "source": [
    "    def solution2(x):\n",
    "        count=0\n",
    "        while x>0:\n",
    "            if x%2 ==1:\n",
    "                #print(x)\n",
    "                count+=1\n",
    "            x=x//2\n",
    "            \n",
    "        return count\n"
   ]
  },
  {
   "cell_type": "code",
   "execution_count": 48,
   "metadata": {},
   "outputs": [
    {
     "name": "stdout",
     "output_type": "stream",
     "text": [
      "5\n",
      "1\n"
     ]
    },
    {
     "data": {
      "text/plain": [
       "2"
      ]
     },
     "execution_count": 48,
     "metadata": {},
     "output_type": "execute_result"
    }
   ],
   "source": [
    "solution2(10)"
   ]
  },
  {
   "cell_type": "code",
   "execution_count": null,
   "metadata": {},
   "outputs": [],
   "source": []
  },
  {
   "cell_type": "code",
   "execution_count": 307,
   "metadata": {},
   "outputs": [
    {
     "data": {
      "text/plain": [
       "'!asd? !asdas?asd?d! asd? as?'"
      ]
     },
     "execution_count": 307,
     "metadata": {},
     "output_type": "execute_result"
    }
   ],
   "source": [
    "#핵심 소스코드의 설명을 주석으로 작성하면 평가에 큰 도움이 됩니다.\n",
    "\n",
    "def solution3(document):\n",
    "        \n",
    "        # 느낌표만 연속 ->!\n",
    "        #섞여있다면 ->?\n",
    "        result=[]\n",
    "        if document[0]==' ':\n",
    "            result.append('')\n",
    "        a = document.split()\n",
    "        \n",
    "        \n",
    "        for i in a:\n",
    "            if i.count('?')>=1: #물음표 하나만 남기기\n",
    "                res=[]\n",
    "                count=0\n",
    "                for m in i:\n",
    "                    \n",
    "                    if m !='!':\n",
    "                        if m=='?' and count==0:\n",
    "                            count+=1\n",
    "                            res.append(m)\n",
    "                        elif m!='!'and m!='?':\n",
    "                            count=0\n",
    "                            res.append(m)\n",
    "                    else:\n",
    "                        if m=='!'and count==0:\n",
    "                        \n",
    "                            res.append(m)\n",
    "                            count+=1\n",
    "                        \n",
    "                            \n",
    "                result.append(''.join(res))\n",
    "            elif i.count('!')>=1:\n",
    "                res=[]\n",
    "                count=0\n",
    "                for m in i:\n",
    "                    if m =='!'and count==0:\n",
    "                        count+=1\n",
    "                        res.append(m)\n",
    "                    elif m!='!':\n",
    "                        count=0\n",
    "                        res.append(m)\n",
    "                    #print(res)\n",
    "\n",
    "                    \n",
    "                result.append(''.join(res))\n",
    "            else:\n",
    "                result.append(i)\n",
    "        if document[-1]==' ':\n",
    "            result.append('')\n",
    "        a = document.split()\n",
    "        \n",
    "\n",
    "        return ' '.join(result)\n",
    "\n",
    "solution13('!asd?! !??asdas?asd?d!!!!   asd?!!! as?')"
   ]
  },
  {
   "cell_type": "code",
   "execution_count": 129,
   "metadata": {},
   "outputs": [
    {
     "name": "stdout",
     "output_type": "stream",
     "text": [
      "[3, 3, 2, 1, 1]\n"
     ]
    }
   ],
   "source": [
    "a= [1,3,2,1,3]\n",
    "a.sort(reverse=True)\n",
    "\n",
    "print(a)"
   ]
  },
  {
   "cell_type": "code",
   "execution_count": 266,
   "metadata": {},
   "outputs": [
    {
     "name": "stdout",
     "output_type": "stream",
     "text": [
      "1\n",
      "[4, 5, 3, 2, 2, 2, 1, 1] 1\n",
      "2\n",
      "[4, 3, 3, 2, 2, 2, 1, 1] 2\n",
      "3\n",
      "[3, 2, 2, 2, 2, 2, 1, 1] 3\n",
      "4\n",
      "[2, 1, 1, 1, 2, 2, 1, 1] 4\n",
      "5\n",
      "[1, 1, 1, 0, 0, 1, 1, 1] 5\n",
      "6\n",
      "[0, 0, 0, 0, 0, 0, 0, 0] 6\n",
      "7\n",
      "[-1, -1, -1, -1, -1, -1, -1, 0] 7\n"
     ]
    },
    {
     "data": {
      "text/plain": [
       "6"
      ]
     },
     "execution_count": 266,
     "metadata": {},
     "output_type": "execute_result"
    }
   ],
   "source": [
    "def solution4(candles):\n",
    "    candles.sort(reverse=True)\n",
    "    result=len(candles)\n",
    "    for day in range(1,len(candles)+1):\n",
    "        print(day)\n",
    "        can = [ i for i in candles]    \n",
    "        for i in range(0,day):\n",
    "            can.sort(reverse=True)\n",
    "            for m in range(0,i+1):\n",
    "            #print('can[i],day,i :' ,can[i],day,i,'=',can[i]-day+i)\n",
    "                can[m]=can[m]-1\n",
    "        \n",
    "        print(can,day)\n",
    "        if -1 in can:\n",
    "            result= day-1\n",
    "            break\n",
    "                    #result=day\n",
    "                    #print(result,'답')\n",
    "      \n",
    "        \n",
    "    return result\n",
    "    \n",
    "solution5([5,2,2,1,3,5,2,1])"
   ]
  },
  {
   "cell_type": "code",
   "execution_count": null,
   "metadata": {},
   "outputs": [],
   "source": []
  }
 ],
 "metadata": {
  "kernelspec": {
   "display_name": "Python 3",
   "language": "python",
   "name": "python3"
  },
  "language_info": {
   "codemirror_mode": {
    "name": "ipython",
    "version": 3
   },
   "file_extension": ".py",
   "mimetype": "text/x-python",
   "name": "python",
   "nbconvert_exporter": "python",
   "pygments_lexer": "ipython3",
   "version": "3.8.5"
  }
 },
 "nbformat": 4,
 "nbformat_minor": 4
}
