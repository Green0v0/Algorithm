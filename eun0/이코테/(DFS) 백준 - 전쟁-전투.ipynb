{
 "cells": [
  {
   "cell_type": "markdown",
   "metadata": {},
   "source": [
    "### 전쟁 - 전투\n",
    "\n",
    "#### 문제\n",
    "\n",
    "전쟁은 어느덧 전면전이 시작되었다. 결국 전투는 난전이 되었고, 우리 병사와 적국 병사가 섞여 싸우게 되었다.\n",
    "\n",
    "그러나 당신의 병사들은 하얀 옷을 입고, 적국의 병사들은 파란옷을 입었기 때문에 서로가 적인지 아군인지는 구분할 수 있다.\n",
    "\n",
    "문제는, 같은 팀의 병사들은 모이면 모일수록 강해진다는 사실이다.\n",
    "\n",
    "N명이 뭉쳐있을 때는 N^2의 위력을 낼 수 있다. 과연 지금 난전의 상황에서는 누가 승리할 것인가? 단, 같은 팀의 병사들이 대각선으로만 인접한 경우는 뭉쳐 있다고 보지 않는다.\n",
    "\n",
    "#### 입력\n",
    "\n",
    "첫째 줄에는 전쟁터의 가로 크기 N, 세로 크기 M(1 ≤ N, M ≤ 100)이 주어진다. 그 다음 두 번째 줄에서 M+1번째 줄에는 각각 (X, Y)에 있는 병사들의 옷색이 띄어쓰기 없이 주어진다. 모든 자리에는 병사가 한 명 있다. (B는 파랑, W는 흰색이다.)\n",
    "\n",
    "#### 출력\n",
    "\n",
    "첫 번째 줄에 당신의 병사의 위력의 합과 적국의 병사의 위력의 합을 출력한다."
   ]
  },
  {
   "cell_type": "code",
   "execution_count": 33,
   "metadata": {},
   "outputs": [
    {
     "name": "stdout",
     "output_type": "stream",
     "text": [
      "5 5\n",
      "WBWWW\n",
      "WWWWW\n",
      "BBBBB\n",
      "BBBWW\n",
      "WWWWW\n"
     ]
    }
   ],
   "source": [
    "a,b = map(int,input().split(\" \"))\n",
    "\n",
    "graph = []\n",
    "for _ in range(b):\n",
    "    graph.append(list(input()))"
   ]
  },
  {
   "cell_type": "code",
   "execution_count": 34,
   "metadata": {},
   "outputs": [
    {
     "name": "stdout",
     "output_type": "stream",
     "text": [
      "[['W', 'B', 'W', 'W', 'W'], ['W', 'W', 'W', 'W', 'W'], ['B', 'B', 'B', 'B', 'B'], ['B', 'B', 'B', 'W', 'W'], ['W', 'W', 'W', 'W', 'W']]\n"
     ]
    }
   ],
   "source": [
    "print(graph)"
   ]
  },
  {
   "cell_type": "markdown",
   "metadata": {},
   "source": [
    "#### 풀이방법\n",
    "\n",
    "dfs로 한칸 음직일때마다 다른 문자로 변환하여 방문처리하며 카운트 +1을 하여 최대 거리 구하고, 거리 제곱하기.\n"
   ]
  },
  {
   "cell_type": "code",
   "execution_count": 73,
   "metadata": {},
   "outputs": [
    {
     "name": "stdout",
     "output_type": "stream",
     "text": [
      "130 65\n"
     ]
    }
   ],
   "source": [
    "a,b = 5,5\n",
    "graph=[['W', 'B', 'W', 'W', 'W'], ['W', 'W', 'W', 'W', 'W'], ['B', 'B', 'B', 'B', 'B'], ['B', 'B', 'B', 'W', 'W'], ['W', 'W', 'W', 'W', 'W']]\n",
    "count=0\n",
    "def dfs(i,j,A):\n",
    "    dx = [0,0,1,-1]\n",
    "    dy = [1,-1,0,0]\n",
    "    graph[i][j]=\"z\" #W를 Z로 바꾸기\n",
    "    global count\n",
    "    count+=1\n",
    "    for n in range(4): # W의 상하좌우로 움직이기\n",
    "        ndx = i+dx[n]\n",
    "        ndy = j+dy[n]\n",
    "        if 0<=ndx and ndx<5 and 0<=ndy and ndy<5 and graph[ndx][ndy]==A:\n",
    "            dfs(ndx,ndy,A)\n",
    "            \n",
    "wcount = 0\n",
    "bcount = 0\n",
    "for i in range(b):\n",
    "    for j in range(a):\n",
    "        if graph[i][j]=='W':\n",
    "            dfs(i,j,'W')\n",
    "            wcount= wcount+count**2\n",
    "            count=0\n",
    "\n",
    "        if graph[i][j]=='B':\n",
    "            dfs(i,j,'B')\n",
    "            bcount= bcount+count**2\n",
    "            count=0\n",
    "print(wcount,bcount)\n",
    "\n",
    "\n",
    "    "
   ]
  },
  {
   "cell_type": "code",
   "execution_count": 75,
   "metadata": {},
   "outputs": [
    {
     "name": "stdout",
     "output_type": "stream",
     "text": [
      "5 5\n",
      "WBWWW\n",
      "WWWWW\n",
      "BBBBB\n",
      "BBBWW\n",
      "WWWWW\n",
      "130 65\n"
     ]
    }
   ],
   "source": [
    "#제출코드\n",
    "\n",
    "a,b = map(int,input().split(\" \"))\n",
    "\n",
    "graph = []\n",
    "for _ in range(b):\n",
    "    graph.append(list(input()))\n",
    "\n",
    "    count=0\n",
    "def dfs(i,j,Alpa):\n",
    "    dx = [0,0,1,-1]\n",
    "    dy = [1,-1,0,0]\n",
    "    graph[i][j]=\"z\" #W를 Z로 바꾸기\n",
    "    global count\n",
    "    count+=1\n",
    "    for n in range(4): # W의 상하좌우로 움직이기\n",
    "        ndx = i+dx[n]\n",
    "        ndy = j+dy[n]\n",
    "        if 0<=ndx and ndx<b and 0<=ndy and ndy<a and graph[ndx][ndy]==Alpa:\n",
    "            dfs(ndx,ndy,Alpa)\n",
    "            \n",
    "wcount = 0\n",
    "bcount = 0\n",
    "for i in range(b):\n",
    "    for j in range(a):\n",
    "        if graph[i][j]=='W':\n",
    "            dfs(i,j,'W')\n",
    "            wcount= wcount+count**2\n",
    "            count=0\n",
    "\n",
    "        if graph[i][j]=='B':\n",
    "            dfs(i,j,'B')\n",
    "            bcount= bcount+count**2\n",
    "            count=0\n",
    "print(wcount,bcount)\n",
    "    \n",
    "    \n",
    "    "
   ]
  },
  {
   "cell_type": "markdown",
   "metadata": {},
   "source": [
    "176ms"
   ]
  },
  {
   "cell_type": "code",
   "execution_count": null,
   "metadata": {},
   "outputs": [],
   "source": []
  }
 ],
 "metadata": {
  "kernelspec": {
   "display_name": "Python 3",
   "language": "python",
   "name": "python3"
  },
  "language_info": {
   "codemirror_mode": {
    "name": "ipython",
    "version": 3
   },
   "file_extension": ".py",
   "mimetype": "text/x-python",
   "name": "python",
   "nbconvert_exporter": "python",
   "pygments_lexer": "ipython3",
   "version": "3.8.5"
  }
 },
 "nbformat": 4,
 "nbformat_minor": 4
}
