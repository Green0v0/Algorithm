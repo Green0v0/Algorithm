{
 "cells": [
  {
   "cell_type": "markdown",
   "metadata": {},
   "source": [
    "### 카카오 - 괄호변환\n",
    "\n",
    "#### 문제 설명\n",
    "\n",
    "카카오에 신입 개발자로 입사한 \"콘\"은 선배 개발자로부터 개발역량 강화를 위해 다른 개발자가 작성한 소스 코드를 분석하여 문제점을 발견하고 수정하라는 업무 과제를 받았습니다. 소스를 컴파일하여 로그를 보니 대부분 소스 코드 내 작성된 괄호가 개수는 맞지만 짝이 맞지 않은 형태로 작성되어 오류가 나는 것을 알게 되었습니다.\n",
    "수정해야 할 소스 파일이 너무 많아서 고민하던 \"콘\"은 소스 코드에 작성된 모든 괄호를 뽑아서 올바른 순서대로 배치된 괄호 문자열을 알려주는 프로그램을 다음과 같이 개발하려고 합니다.\n",
    "\n",
    "#### 용어의 정의\n",
    "\n",
    "'(' 와 ')' 로만 이루어진 문자열이 있을 경우, '(' 의 개수와 ')' 의 개수가 같다면 이를 균형잡힌 괄호 문자열이라고 부릅니다.\n",
    "그리고 여기에 '('와 ')'의 괄호의 짝도 모두 맞을 경우에는 이를 올바른 괄호 문자열이라고 부릅니다.\n",
    "예를 들어, \"(()))(\"와 같은 문자열은 \"균형잡힌 괄호 문자열\" 이지만 \"올바른 괄호 문자열\"은 아닙니다.\n",
    "반면에 \"(())()\"와 같은 문자열은 \"균형잡힌 괄호 문자열\" 이면서 동시에 \"올바른 괄호 문자열\" 입니다.\n",
    "\n",
    "'(' 와 ')' 로만 이루어진 문자열 w가 \"균형잡힌 괄호 문자열\" 이라면 다음과 같은 과정을 통해 \"올바른 괄호 문자열\"로 변환할 수 있습니다.\n",
    "\n",
    "1. 입력이 빈 문자열인 경우, 빈 문자열을 반환합니다. \n",
    "2. 문자열 w를 두 \"균형잡힌 괄호 문자열\" u, v로 분리합니다. 단, u는 \"균형잡힌 괄호 문자열\"로 더 이상 분리할 수 없어야 하며, v는 빈 문자열이 될 수 있습니다. \n",
    "3. 문자열 u가 \"올바른 괄호 문자열\" 이라면 문자열 v에 대해 1단계부터 다시 수행합니다. \n",
    "  3-1. 수행한 결과 문자열을 u에 이어 붙인 후 반환합니다. \n",
    "4. 문자열 u가 \"올바른 괄호 문자열\"이 아니라면 아래 과정을 수행합니다. \n",
    "  4-1. 빈 문자열에 첫 번째 문자로 '('를 붙입니다. \n",
    "  4-2. 문자열 v에 대해 1단계부터 재귀적으로 수행한 결과 문자열을 이어 붙입니다. \n",
    "  4-3. ')'를 다시 붙입니다. \n",
    "  4-4. u의 첫 번째와 마지막 문자를 제거하고, 나머지 문자열의 괄호 방향을 뒤집어서 뒤에 붙입니다. \n",
    "  4-5. 생성된 문자열을 반환합니다.\n",
    "\"균형잡힌 괄호 문자열\" p가 매개변수로 주어질 때, 주어진 알고리즘을 수행해 \"올바른 괄호 문자열\"로 변환한 결과를 return 하도록 solution 함수를 완성해 주세요.\n",
    "\n",
    "#### 매개변수 설명\n",
    "\n",
    "p는 '(' 와 ')' 로만 이루어진 문자열이며 길이는 2 이상 1,000 이하인 짝수입니다.\n",
    "문자열 p를 이루는 '(' 와 ')' 의 개수는 항상 같습니다.\n",
    "만약 p가 이미 \"올바른 괄호 문자열\"이라면 그대로 return 하면 됩니다.\n"
   ]
  },
  {
   "cell_type": "markdown",
   "metadata": {},
   "source": [
    "### 접근 방법\n",
    "\n",
    "문제에서 주어진 풀이법을 따라가면서 진행\n",
    "재귀함수를 이용, '('와 ')'의 갯수를 이용하여 u,v를 분리하고 균형잡힌 괄호 문자열인지 판단한다.\n",
    "\n",
    "문자열을 앞에서 부터 확인하며, '('와')'의 갯수가 같다면 문자열을 나눠 앞 부분을 u, 뒷부분을 v로 저장 후 \n",
    "u가 올바른 괄호 문자열인지 판단하여 올바르다면 v에 대하여 재귀함수 진행, u가 올바르지 않다면 u를 수정 후 v를 진행하고, 더이상의 v가 없을 시 종료한다."
   ]
  },
  {
   "cell_type": "code",
   "execution_count": 15,
   "metadata": {},
   "outputs": [],
   "source": [
    "def solution(p):\n",
    "    \n",
    "    def div(s): # u,v나누기\n",
    "        count_1=0\n",
    "        count_2=0\n",
    "        for i in range(len(s)):\n",
    "            if s[i] =='(':\n",
    "                count_1+=1\n",
    "            else:\n",
    "                count_2+=1\n",
    "            if count_1==count_2:\n",
    "                break\n",
    "        return s[:i+1], s[i+1:]\n",
    "            \n",
    "    def right(s): # 올바른 괄호 문자열인지 비교\n",
    "        result=True\n",
    "        count=0\n",
    "        for i in range(len(s)):\n",
    "            if s[i] =='(':\n",
    "                count+=1\n",
    "            else:\n",
    "                count-=1\n",
    "            if count<0:\n",
    "                result=False\n",
    "                break\n",
    "        return result\n",
    "    \n",
    "    if p == '': # v가 더이상 없다면 종료\n",
    "        return ''\n",
    "    \n",
    "    u,v = div(p)\n",
    "    if right(u) == True:\n",
    "        return u+solution(v)\n",
    "    else:\n",
    "        answer='('+solution(v)+')' #u가 올바른 괄호 문자열이 아닐 떄\n",
    "        \n",
    "        del_u = u[1:-1]\n",
    "        for i in range(len(del_u)):\n",
    "            if del_u[i]=='(':\n",
    "                answer+=')'\n",
    "            else:\n",
    "                answer+='('\n",
    "        return answer\n",
    "\n"
   ]
  },
  {
   "cell_type": "code",
   "execution_count": 16,
   "metadata": {},
   "outputs": [
    {
     "data": {
      "text/plain": [
       "'(()())()'"
      ]
     },
     "execution_count": 16,
     "metadata": {},
     "output_type": "execute_result"
    }
   ],
   "source": [
    "solution(\"(()())()\")    "
   ]
  },
  {
   "cell_type": "code",
   "execution_count": 20,
   "metadata": {},
   "outputs": [
    {
     "data": {
      "text/plain": [
       "'aaaaaaaa'"
      ]
     },
     "execution_count": 20,
     "metadata": {},
     "output_type": "execute_result"
    }
   ],
   "source": []
  },
  {
   "cell_type": "code",
   "execution_count": null,
   "metadata": {},
   "outputs": [],
   "source": []
  }
 ],
 "metadata": {
  "kernelspec": {
   "display_name": "Python 3",
   "language": "python",
   "name": "python3"
  },
  "language_info": {
   "codemirror_mode": {
    "name": "ipython",
    "version": 3
   },
   "file_extension": ".py",
   "mimetype": "text/x-python",
   "name": "python",
   "nbconvert_exporter": "python",
   "pygments_lexer": "ipython3",
   "version": "3.8.5"
  }
 },
 "nbformat": 4,
 "nbformat_minor": 4
}
