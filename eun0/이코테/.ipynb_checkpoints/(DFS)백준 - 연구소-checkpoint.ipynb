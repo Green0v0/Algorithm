{
 "cells": [
  {
   "cell_type": "markdown",
   "metadata": {},
   "source": [
    "#### 문제\n",
    "\n",
    "\n",
    "인체에 치명적인 바이러스를 연구하던 연구소에서 바이러스가 유출되었다. 다행히 바이러스는 아직 퍼지지 않았고, 바이러스의 확산을 막기 위해서 연구소에 벽을 세우려고 한다.\n",
    "\n",
    "연구소는 크기가 N×M인 직사각형으로 나타낼 수 있으며, 직사각형은 1×1 크기의 정사각형으로 나누어져 있다. 연구소는 빈 칸, 벽으로 이루어져 있으며, 벽은 칸 하나를 가득 차지한다. \n",
    "\n",
    "일부 칸은 바이러스가 존재하며, 이 바이러스는 상하좌우로 인접한 빈 칸으로 모두 퍼져나갈 수 있다. 새로 세울 수 있는 벽의 개수는 3개이며, 꼭 3개를 세워야 한다.\n",
    "\n",
    "예를 들어, 아래와 같이 연구소가 생긴 경우를 살펴보자.\n",
    "\n",
    "2 0 0 0 1 1 0\n",
    "\n",
    "0 0 1 0 1 2 0\n",
    "\n",
    "0 1 1 0 1 0 0\n",
    "\n",
    "0 1 0 0 0 0 0\n",
    "\n",
    "0 0 0 0 0 1 1\n",
    "\n",
    "0 1 0 0 0 0 0\n",
    "\n",
    "0 1 0 0 0 0 0\n",
    "\n",
    "이때, 0은 빈 칸, 1은 벽, 2는 바이러스가 있는 곳이다. 아무런 벽을 세우지 않는다면, 바이러스는 모든 빈 칸으로 퍼져나갈 수 있다.\n",
    "\n",
    "2행 1열, 1행 2열, 4행 6열에 벽을 세운다면 지도의 모양은 아래와 같아지게 된다.\n",
    "\n",
    "2 1 0 0 1 1 0\n",
    "\n",
    "1 0 1 0 1 2 0\n",
    "\n",
    "0 1 1 0 1 0 0\n",
    "\n",
    "0 1 0 0 0 1 0\n",
    "\n",
    "0 0 0 0 0 1 1\n",
    "\n",
    "0 1 0 0 0 0 0\n",
    "\n",
    "0 1 0 0 0 0 0\n",
    "\n",
    "바이러스가 퍼진 뒤의 모습은 아래와 같아진다.\n",
    "\n",
    "2 1 0 0 1 1 2\n",
    "\n",
    "1 0 1 0 1 2 2\n",
    "\n",
    "0 1 1 0 1 2 2\n",
    "\n",
    "0 1 0 0 0 1 2\n",
    "\n",
    "0 0 0 0 0 1 1\n",
    "\n",
    "0 1 0 0 0 0 0\n",
    "\n",
    "0 1 0 0 0 0 0\n",
    "\n",
    "벽을 3개 세운 뒤, 바이러스가 퍼질 수 없는 곳을 안전 영역이라고 한다. 위의 지도에서 안전 영역의 크기는 27이다.\n",
    "\n",
    "연구소의 지도가 주어졌을 때 얻을 수 있는 안전 영역 크기의 최댓값을 구하는 프로그램을 작성하시오.\n",
    "\n",
    "#### 입력\n",
    "\n",
    "\n",
    "첫째 줄에 지도의 세로 크기 N과 가로 크기 M이 주어진다. (3 ≤ N, M ≤ 8)\n",
    "\n",
    "둘째 줄부터 N개의 줄에 지도의 모양이 주어진다. 0은 빈 칸, 1은 벽, 2는 바이러스가 있는 위치이다. 2의 개수는 2보다 크거나 같고, 10보다 작거나 같은 자연수이다.\n",
    "\n",
    "빈 칸의 개수는 3개 이상이다.\n",
    "\n",
    "#### 출력\n",
    "\n",
    "\n",
    "첫째 줄에 얻을 수 있는 안전 영역의 최대 크기를 출력한다.\n",
    "\n"
   ]
  },
  {
   "cell_type": "code",
   "execution_count": 2,
   "metadata": {},
   "outputs": [
    {
     "name": "stdout",
     "output_type": "stream",
     "text": [
      "7 7 2 0 0 0 1 1 0 0 0 1 0 1 2 0 0 1 1 0 1 0 0 0 1 0 0 0 0 0 0 0 0 0 0 1 1 0 1 0 0 0 0 0 0 1 0 0 0 0 0\n"
     ]
    },
    {
     "ename": "ValueError",
     "evalue": "too many values to unpack (expected 2)",
     "output_type": "error",
     "traceback": [
      "\u001b[1;31m---------------------------------------------------------------------------\u001b[0m",
      "\u001b[1;31mValueError\u001b[0m                                Traceback (most recent call last)",
      "\u001b[1;32m<ipython-input-2-d2e6637925f9>\u001b[0m in \u001b[0;36m<module>\u001b[1;34m\u001b[0m\n\u001b[1;32m----> 1\u001b[1;33m \u001b[0ma\u001b[0m\u001b[1;33m,\u001b[0m\u001b[0mb\u001b[0m \u001b[1;33m=\u001b[0m \u001b[0mmap\u001b[0m\u001b[1;33m(\u001b[0m\u001b[0mint\u001b[0m\u001b[1;33m,\u001b[0m\u001b[0minput\u001b[0m\u001b[1;33m(\u001b[0m\u001b[1;33m)\u001b[0m\u001b[1;33m.\u001b[0m\u001b[0msplit\u001b[0m\u001b[1;33m(\u001b[0m\u001b[1;34m' '\u001b[0m\u001b[1;33m)\u001b[0m\u001b[1;33m)\u001b[0m\u001b[1;33m\u001b[0m\u001b[1;33m\u001b[0m\u001b[0m\n\u001b[0m\u001b[0;32m      2\u001b[0m \u001b[0mgraph\u001b[0m\u001b[1;33m=\u001b[0m\u001b[1;33m[\u001b[0m\u001b[1;33m]\u001b[0m\u001b[1;33m\u001b[0m\u001b[1;33m\u001b[0m\u001b[0m\n\u001b[0;32m      3\u001b[0m \u001b[1;32mfor\u001b[0m \u001b[0m_\u001b[0m \u001b[1;32min\u001b[0m \u001b[0mrange\u001b[0m\u001b[1;33m(\u001b[0m\u001b[0ma\u001b[0m\u001b[1;33m)\u001b[0m\u001b[1;33m:\u001b[0m\u001b[1;33m\u001b[0m\u001b[1;33m\u001b[0m\u001b[0m\n\u001b[0;32m      4\u001b[0m     \u001b[0mgraph\u001b[0m\u001b[1;33m.\u001b[0m\u001b[0mappend\u001b[0m\u001b[1;33m(\u001b[0m\u001b[0mlist\u001b[0m\u001b[1;33m(\u001b[0m\u001b[0mmap\u001b[0m\u001b[1;33m(\u001b[0m\u001b[0mint\u001b[0m\u001b[1;33m,\u001b[0m\u001b[0minput\u001b[0m\u001b[1;33m(\u001b[0m\u001b[1;33m)\u001b[0m\u001b[1;33m.\u001b[0m\u001b[0msplit\u001b[0m\u001b[1;33m(\u001b[0m\u001b[1;34m' '\u001b[0m\u001b[1;33m)\u001b[0m\u001b[1;33m)\u001b[0m\u001b[1;33m)\u001b[0m\u001b[1;33m)\u001b[0m\u001b[1;33m\u001b[0m\u001b[1;33m\u001b[0m\u001b[0m\n\u001b[0;32m      5\u001b[0m \u001b[0mprint\u001b[0m\u001b[1;33m(\u001b[0m\u001b[0mgraph\u001b[0m\u001b[1;33m)\u001b[0m\u001b[1;33m\u001b[0m\u001b[1;33m\u001b[0m\u001b[0m\n",
      "\u001b[1;31mValueError\u001b[0m: too many values to unpack (expected 2)"
     ]
    }
   ],
   "source": [
    "a,b = map(int,input().split(' '))\n",
    "graph=[]\n",
    "for _ in range(a):\n",
    "    graph.append(list(map(int,input().split(' '))))\n",
    "print(graph)\n"
   ]
  },
  {
   "cell_type": "code",
   "execution_count": null,
   "metadata": {},
   "outputs": [],
   "source": [
    "# 벽을 3개 세울 수 있는 경우의 수 -> 조합\n",
    "\n",
    "# 바이러스 2가 있는 위치에서 가능한 영역 모두 퍼트리기\n",
    "# 0의 갯수 가장 작은 경우 구하기"
   ]
  },
  {
   "cell_type": "code",
   "execution_count": 3,
   "metadata": {},
   "outputs": [
    {
     "name": "stdout",
     "output_type": "stream",
     "text": [
      "1 3\n"
     ]
    }
   ],
   "source": [
    "#좌표 3개 정하기 0인 부분  \n",
    "# 1~ n*m 까지 중에 3개. 좌표는 (x//m,x%m-1)\n",
    "\n",
    "# 0인 부분 먼저 골라서 좌표를 변환한 값으로 넣어두고\n"
   ]
  },
  {
   "cell_type": "code",
   "execution_count": null,
   "metadata": {},
   "outputs": [],
   "source": [
    "\n",
    "import itertools\n",
    "import copy\n",
    "\n",
    "x,y = map(int,input().split(' '))\n",
    "graph=[]\n",
    "for _ in range(a):\n",
    "    graph.append(list(map(int,input().split(' '))))\n",
    "\n",
    "list0=[] #빈공간 리스트\n",
    "list2=[] #바이러스 담을 리스트\n",
    "count=0\n",
    "max_value=0\n",
    "wgraph=copy.deepcopy(graph)\n",
    "\n",
    "def virus_spread(x,y,wgraph):        \n",
    "    for i in range(4): # 좌표값으로 부터\n",
    "        dx=[0,0,1,-1]\n",
    "        dy=[-1,1,0,0]\n",
    "        x_n =x+dx[i]\n",
    "        y_n= y+dy[i]        \n",
    "        if x_n>=0 and y_n>=0 and x_n<x and y_n<y:\n",
    "            if wgraph[x_n][y_n] ==0:\n",
    "                wgraph[x_n][y_n]=2\n",
    "                virus_spread(x_n,y_n,wgraph)\n",
    "                        \n",
    "for i in lst1:# 0인 부분, 2인 부분의 리스트 생성\n",
    "     for j in i:            \n",
    "            if j==0:\n",
    "                list0.append(count)\n",
    "            if j==2:\n",
    "                list2.append(count)\n",
    "            count+=1\n",
    "            \n",
    "for i in itertools.combinations(list0,3): # 0인 부분 중 3개의 조합 생성하여 벽 결정\n",
    "    for j in i:\n",
    "        wgraph[j//x][j%y]=1  #3개의 벽 생성\n",
    "        #print(f\"({j//7},{j%7})\")    \n",
    "    \n",
    "    # 모든 가능한 부분에 바이러스 전염시키기\n",
    "    for i in list2:        \n",
    "        x=i//x    # 바이러스 리스트를 통해 바이러스의 좌표값 확인\n",
    "        y=i%y\n",
    "        virus_spread(x,y,wgraph)   \n",
    "    max_value= max(max_value,(sum(i.count(0)for i in wgraph)))\n",
    "    \n",
    "    wgraph=copy.deepcopy(graph)\n",
    "\n",
    "print(max_value)\n",
    "\n",
    "    \n",
    "    \n",
    "    \n",
    "    \n",
    "\n",
    "    "
   ]
  },
  {
   "cell_type": "code",
   "execution_count": null,
   "metadata": {},
   "outputs": [],
   "source": []
  },
  {
   "cell_type": "code",
   "execution_count": 49,
   "metadata": {},
   "outputs": [
    {
     "name": "stdout",
     "output_type": "stream",
     "text": [
      "[[1, 2], [3, 4]]\n"
     ]
    }
   ],
   "source": [
    "graph=[[1,2],[3,4]]\n",
    "\n",
    "graph1[1][1]=100\n",
    "graph1= graph\n",
    "print(graph1)"
   ]
  },
  {
   "cell_type": "code",
   "execution_count": null,
   "metadata": {},
   "outputs": [],
   "source": []
  }
 ],
 "metadata": {
  "kernelspec": {
   "display_name": "Python 3",
   "language": "python",
   "name": "python3"
  },
  "language_info": {
   "codemirror_mode": {
    "name": "ipython",
    "version": 3
   },
   "file_extension": ".py",
   "mimetype": "text/x-python",
   "name": "python",
   "nbconvert_exporter": "python",
   "pygments_lexer": "ipython3",
   "version": "3.8.5"
  }
 },
 "nbformat": 4,
 "nbformat_minor": 4
}
